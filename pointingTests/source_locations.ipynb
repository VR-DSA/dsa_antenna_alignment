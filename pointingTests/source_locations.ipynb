{
 "cells": [
  {
   "cell_type": "code",
   "execution_count": 1,
   "metadata": {},
   "outputs": [
    {
     "name": "stderr",
     "output_type": "stream",
     "text": [
      "WARNING: AstropyDeprecationWarning: astropy.extern.six will be removed in 4.0, use the six module directly if it is still needed [astropy.extern.six]\n"
     ]
    }
   ],
   "source": [
    "import numpy as np\n",
    "from scipy import stats\n",
    "from astropy.coordinates import SkyCoord  # High-level coordinates\n",
    "from astropy.coordinates import ICRS, Galactic, FK4, FK5  # Low-level frames\n",
    "from astropy.coordinates import Angle, Latitude, Longitude  # Angles\n",
    "from astropy.coordinates import EarthLocation, AltAz\n",
    "from astropy.time import Time\n",
    "import astropy.units as u\n",
    "from astroplan import Observer, FixedTarget\n",
    "from astroplan import download_IERS_A\n",
    "download_IERS_A()\n",
    "import datetime"
   ]
  },
  {
   "cell_type": "code",
   "execution_count": 45,
   "metadata": {},
   "outputs": [],
   "source": [
    "# astropy is sad and doesn't have OVRO as a site\n",
    "# set up site details for OVRO\n",
    "\n",
    "latitude = 37.234487 * u.deg\n",
    "longitude = -118.288311 * u.deg\n",
    "elevation = 1222 * u.m\n",
    "ovro_loc = EarthLocation.from_geodetic(longitude, latitude, elevation)\n",
    "ovro = Observer(location=ovro_loc, name=\"OVRO\", timezone='US/Pacific')"
   ]
  },
  {
   "cell_type": "code",
   "execution_count": 46,
   "metadata": {},
   "outputs": [],
   "source": [
    "# Create astropy object for source\n",
    "\n",
    "src_coords = ['12 30 49.42 +12 23 28.0', '23 23 27.94 +58 48 42.4', '16 51 08.15 +04 59 33.3','19 59 28.36 +40 44 02.1', '17 45 42.24 -29 00 15.8', '12 29 06.41 +02 03 05.1', '04 37 04.57 +29 40 14.2']\n",
    "src_names = ['VirA', 'CasA', 'HercA', 'CygA', 'NVSS J174542-290015', '3C 273', '3C 123']\n",
    "\n",
    "src = SkyCoord(src_coords, frame='icrs', unit=(u.hourangle, u.deg))\n",
    "targets = FixedTarget(coord=src, name=src_names)"
   ]
  },
  {
   "cell_type": "code",
   "execution_count": 47,
   "metadata": {},
   "outputs": [],
   "source": [
    "time=Time.now()\n",
    "meridian_transits = ovro.target_meridian_transit_time(time, targets, which=\"next\")\n",
    "transit_datetimes = ovro.astropy_time_to_datetime(meridian_transits)\n",
    "#print(transit_datetimes[-1])"
   ]
  },
  {
   "cell_type": "code",
   "execution_count": 48,
   "metadata": {},
   "outputs": [],
   "source": [
    "altaz = src.transform_to(AltAz(obstime=Time(meridian_transits), location=ovro_loc))\n",
    "alt = altaz.alt.value\n",
    "az = altaz.az.value\n",
    "\n",
    "#print(alt)\n",
    "#print(az)"
   ]
  },
  {
   "cell_type": "code",
   "execution_count": 49,
   "metadata": {},
   "outputs": [
    {
     "name": "stdout",
     "output_type": "stream",
     "text": [
      "Source: VirA\n",
      "---------------------------------------\n",
      "RA\\Dec: 12 30 49.42 +12 23 28.0\n",
      "Transit time (UTC): 58779.76211738214\n",
      "Transit time (local): 2019-10-23 11:17:26.941817-07:00\n",
      "Altitude: 65.05078692778316\n",
      "Zenith Angle: 24.949213072216835\n",
      "Azimuth: 179.99876286209542\n",
      "\n",
      "\n",
      "Source: CasA\n",
      "---------------------------------------\n",
      "RA\\Dec: 23 23 27.94 +58 48 42.4\n",
      "Transit time (UTC): 58780.21407516906\n",
      "Transit time (local): 2019-10-23 22:08:16.094607-07:00\n",
      "Altitude: 68.31163000500271\n",
      "Zenith Angle: 21.688369994997288\n",
      "Azimuth: 359.9993171818056\n",
      "\n",
      "\n",
      "Source: HercA\n",
      "---------------------------------------\n",
      "RA\\Dec: 16 51 08.15 +04 59 33.3\n",
      "Transit time (UTC): 58779.942382688634\n",
      "Transit time (local): 2019-10-23 15:37:01.864298-07:00\n",
      "Altitude: 57.728856148005896\n",
      "Zenith Angle: 32.271143851994104\n",
      "Azimuth: 179.99906194129977\n",
      "\n",
      "\n",
      "Source: CygA\n",
      "---------------------------------------\n",
      "RA\\Dec: 19 59 28.36 +40 44 02.1\n",
      "Transit time (UTC): 58780.072702629026\n",
      "Transit time (local): 2019-10-23 18:44:41.507148-07:00\n",
      "Altitude: 86.44115059220566\n",
      "Zenith Angle: 3.558849407794341\n",
      "Azimuth: 359.6735425404499\n",
      "\n",
      "\n",
      "Source: NVSS J174542-290015\n",
      "---------------------------------------\n",
      "RA\\Dec: 17 45 42.24 -29 00 15.8\n",
      "Transit time (UTC): 58779.98036774434\n",
      "Transit time (local): 2019-10-23 16:31:43.773111-07:00\n",
      "Altitude: 23.754644439474546\n",
      "Zenith Angle: 66.24535556052545\n",
      "Azimuth: 180.00009914341123\n",
      "\n",
      "\n",
      "Source: 3C 273\n",
      "---------------------------------------\n",
      "RA\\Dec: 12 29 06.41 +02 03 05.1\n",
      "Transit time (UTC): 58779.76093686931\n",
      "Transit time (local): 2019-10-23 11:15:44.945508-07:00\n",
      "Altitude: 54.711434678617174\n",
      "Zenith Angle: 35.288565321382826\n",
      "Azimuth: 179.9993072902523\n",
      "\n",
      "\n",
      "Source: 3C 123\n",
      "---------------------------------------\n",
      "RA\\Dec: 04 37 04.57 +29 40 14.2\n",
      "Transit time (UTC): 58780.4314768482\n",
      "Transit time (local): 2019-10-24 03:21:19.599684-07:00\n",
      "Altitude: 82.47386992980672\n",
      "Zenith Angle: 7.526130070193275\n",
      "Azimuth: 179.96167698909431\n",
      "\n",
      "\n"
     ]
    }
   ],
   "source": [
    "\n",
    "\n",
    "for i in range(len(src_names)):\n",
    "    print('Source: '+src_names[i])\n",
    "    print('---------------------------------------')\n",
    "    print('RA\\Dec: '+src_coords[i])\n",
    "    print('Transit time (UTC): '+str(meridian_transits[i].mjd))\n",
    "    print('Transit time (local): '+str(transit_datetimes[i]))\n",
    "    print('Altitude: '+str(alt[i]))\n",
    "    print('Zenith Angle: '+str(90-alt[i]))\n",
    "    print('Azimuth: '+str(az[i]))\n",
    "    print('\\n')"
   ]
  },
  {
   "cell_type": "code",
   "execution_count": null,
   "metadata": {},
   "outputs": [],
   "source": []
  },
  {
   "cell_type": "code",
   "execution_count": null,
   "metadata": {},
   "outputs": [],
   "source": []
  }
 ],
 "metadata": {
  "kernelspec": {
   "display_name": "Python 3",
   "language": "python",
   "name": "python3"
  },
  "language_info": {
   "codemirror_mode": {
    "name": "ipython",
    "version": 3
   },
   "file_extension": ".py",
   "mimetype": "text/x-python",
   "name": "python",
   "nbconvert_exporter": "python",
   "pygments_lexer": "ipython3",
   "version": "3.6.8"
  }
 },
 "nbformat": 4,
 "nbformat_minor": 2
}
